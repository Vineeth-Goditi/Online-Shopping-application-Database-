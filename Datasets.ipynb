{
  "nbformat": 4,
  "nbformat_minor": 0,
  "metadata": {
    "colab": {
      "provenance": []
    },
    "kernelspec": {
      "name": "python3",
      "display_name": "Python 3"
    },
    "language_info": {
      "name": "python"
    }
  },
  "cells": [
    {
      "cell_type": "code",
      "source": [
        "pip install faker"
      ],
      "metadata": {
        "colab": {
          "base_uri": "https://localhost:8080/"
        },
        "id": "R0tDfmzhl5Lb",
        "outputId": "80c34eb9-b5cf-4d7c-d03f-0afd2ac42e58"
      },
      "execution_count": 20,
      "outputs": [
        {
          "output_type": "stream",
          "name": "stdout",
          "text": [
            "Requirement already satisfied: faker in /usr/local/lib/python3.10/dist-packages (24.14.0)\n",
            "Requirement already satisfied: python-dateutil>=2.4 in /usr/local/lib/python3.10/dist-packages (from faker) (2.8.2)\n",
            "Requirement already satisfied: six>=1.5 in /usr/local/lib/python3.10/dist-packages (from python-dateutil>=2.4->faker) (1.16.0)\n"
          ]
        }
      ]
    },
    {
      "cell_type": "code",
      "execution_count": 21,
      "metadata": {
        "id": "ga98sKphUfWU"
      },
      "outputs": [],
      "source": [
        "import csv\n",
        "import random\n",
        "import pandas as pd\n",
        "import csv\n",
        "from faker import Faker\n",
        "from datetime import date, timedelta"
      ]
    },
    {
      "cell_type": "code",
      "source": [
        "# Users creation\n",
        "user_data = pd.read_csv(\"/content/User_data.csv\" ,names=['Name', 'phoneNumber', 'password'])\n",
        "\n",
        "user_data['userid'] = [i for i in range(1, len(user_data)+1)]\n",
        "\n",
        "user_data.to_csv(\"New_user_data.csv\", header=False, index=False, columns=['userid', 'Name', 'phoneNumber', 'password'])"
      ],
      "metadata": {
        "id": "W4pgqnXKO6HO"
      },
      "execution_count": 22,
      "outputs": []
    },
    {
      "cell_type": "code",
      "source": [
        "#1. Bankcard creation\n",
        "\n",
        "def generate_card_number():\n",
        "    return \"{:12.0f}\".format(float(random.randint(10**(15), (10**16)-1)))\n",
        "\n",
        "def create_csv_with_user_and_card(input_csv_file, output_csv_file):\n",
        "    with open(input_csv_file, 'r') as infile:\n",
        "        reader = csv.reader(infile)\n",
        "        next(reader)\n",
        "        user_ids = [row[0] for row in reader]\n",
        "\n",
        "    with open(output_csv_file, 'w', newline='') as outfile:\n",
        "        writer = csv.writer(outfile)\n",
        "        cardset = set()\n",
        "        for user_id in user_ids:\n",
        "            card_number = str(generate_card_number())\n",
        "            if card_number not in cardset:\n",
        "              writer.writerow([card_number, user_id])\n",
        "              cardset.add(card_number)\n",
        "\n",
        "input_csv_file = '/content/User_data.csv'\n",
        "output_csv_file = 'Bankcard_details.csv'\n",
        "create_csv_with_user_and_card(input_csv_file, output_csv_file)"
      ],
      "metadata": {
        "id": "6ucSKnD4UhoJ"
      },
      "execution_count": 32,
      "outputs": []
    },
    {
      "cell_type": "code",
      "source": [
        "data_1 = pd.read_csv(input_csv_file)"
      ],
      "metadata": {
        "id": "Ll7goW0fU34j"
      },
      "execution_count": 24,
      "outputs": []
    },
    {
      "cell_type": "code",
      "source": [
        "#2. User address creation\n",
        "\n",
        "fake = Faker()\n",
        "def generate_fake_data(num_rows, user_ids):\n",
        "    data = []\n",
        "    for i in range(1, num_rows + 1):\n",
        "        user_id = random.choice(user_ids) if user_ids else None\n",
        "        data.append([i,user_id,fake.street_address(),str(random.randint(100000, 999999)),])\n",
        "    return data\n",
        "\n",
        "total_users = len(data_1)\n",
        "user_ids = []\n",
        "with open('/content/User_data.csv', 'r') as csvfile:\n",
        "    reader = csv.reader(csvfile)\n",
        "    next(reader)\n",
        "    user_ids = [row[0] for row in reader]\n",
        "\n",
        "fake_data = generate_fake_data(total_users, user_ids)\n",
        "filename = 'User_address.csv'\n",
        "with open(filename, 'w', newline='') as csvfile:\n",
        "    writer = csv.writer(csvfile)\n",
        "    writer.writerows(fake_data)"
      ],
      "metadata": {
        "id": "PR9Un9bLg7dU"
      },
      "execution_count": 25,
      "outputs": []
    },
    {
      "cell_type": "code",
      "source": [],
      "metadata": {
        "id": "8O_Xv3NFo8Uz"
      },
      "execution_count": 25,
      "outputs": []
    },
    {
      "cell_type": "code",
      "source": [
        "#3. Product Database\n",
        "\n",
        "def read_data_from_csv(filename):\n",
        "    data = []\n",
        "    with open(filename, 'r') as csvfile:\n",
        "        reader = csv.DictReader(csvfile)\n",
        "        for row in reader:\n",
        "            data.append([row['Description'],row['UnitPrice']])\n",
        "    return data\n",
        "\n",
        "existing_data_filename = '/content/online_retail.csv'\n",
        "product_data = read_data_from_csv(existing_data_filename)\n",
        "pid_value = 1\n",
        "\n",
        "output_filename = 'Product_data.csv'\n",
        "with open(output_filename, 'w', newline='') as csvfile:\n",
        "    writer = csv.writer(csvfile)\n",
        "    for row in product_data:\n",
        "        writer.writerow([pid_value] + row)\n",
        "        pid_value += 1"
      ],
      "metadata": {
        "id": "40BSAqXypTNR"
      },
      "execution_count": 26,
      "outputs": []
    },
    {
      "cell_type": "code",
      "source": [
        "users_data = pd.read_csv(\"/content/User_data.csv\", names=['userId', 'name', 'phoneNumber', 'password'])\n",
        "products_data = pd.read_csv(\"/content/Product_data.csv\", names=['pid', 'Name', 'price'])\n",
        "\n",
        "#create orders\n",
        "orders_data = pd.DataFrame(columns=['orderNumber', 'paymentState', 'totalAmount'])\n",
        "orderitems_data = pd.DataFrame(columns=['itemid', 'pid', 'price'])\n",
        "contain_data = pd.DataFrame(columns=['orderNumber', 'itemid', 'quantity'])\n",
        "paymentStates = ['Paid', 'Pending', 'Declined']\n",
        "contain_index = 1\n",
        "orderitems_index = 1\n",
        "for i in range(2800):\n",
        "  user_index = random.randint(1, len(users_data))\n",
        "  totalAmount = 0.0\n",
        "  paymentState = ''\n",
        "  quantity = int()\n",
        "  # Items per order\n",
        "  items_per_order = random.randint(1, 6)\n",
        "  for j in range(items_per_order):\n",
        "    product_index = random.randint(1, len(products_data)-1)\n",
        "    price = float(products_data.loc[product_index, 'price'])\n",
        "    quantity = random.randint(1, 5)\n",
        "    totalAmount += float(price * quantity)\n",
        "    paymentState = paymentStates[random.randint(0, 2)]\n",
        "\n",
        "    orderitems_data.loc[orderitems_index] = [str(orderitems_index), product_index, price]\n",
        "    contain_data.loc[contain_index] = [i, orderitems_index, quantity]\n",
        "    orderitems_index += 1\n",
        "    contain_index += 1\n",
        "\n",
        "  orders_data.loc[i] = [i, paymentState, totalAmount]\n",
        "\n",
        "orderitems_data.to_csv(\"orderitems.csv\", header=False, index=False)\n",
        "orders_data.to_csv(\"orders.csv\", header=False, index=False)\n",
        "contain_data.to_csv(\"contain.csv\", header=False, index=False)\n",
        "\n",
        "\n",
        "\n"
      ],
      "metadata": {
        "id": "I50CTf5n4NpK"
      },
      "execution_count": 46,
      "outputs": []
    },
    {
      "cell_type": "code",
      "source": [
        "# create reviews\n",
        "reviews_data = pd.DataFrame(columns=['user_id', 'pid', 'grade'])\n",
        "for i in range(2500):\n",
        "  user_index = random.randint(1, len(users_data)-1)\n",
        "  product_index = random.randint(1, len(products_data)-1)\n",
        "  grade = float(random.randint(1, 10)/2)\n",
        "\n",
        "  reviews_data.loc[i] = [str(user_index), product_index, grade]\n",
        "\n",
        "reviews_data.to_csv(\"Reviews.csv\", header=False, index=False)\n"
      ],
      "metadata": {
        "id": "rn9y8VxLBv6V"
      },
      "execution_count": 45,
      "outputs": []
    },
    {
      "cell_type": "code",
      "source": [
        "address_data = pd.read_csv('/content/User_address.csv', names=['addrid', 'userid', 'streetaddr', 'postCode'])\n",
        "# create Deliver_To\n",
        "deliver_to_data = pd.DataFrame(columns=['addrid', 'orderNumber', 'TimeDelivered'])\n",
        "\n",
        "for i in range(len(orders_data)):\n",
        "  address_index = random.randint(1, len(address_data)-1)\n",
        "  random_year = random.randint(2022, 2023)\n",
        "  random_month = random.randint(1, 12)\n",
        "  random_day = random.randint(1, 28)\n",
        "  delivered_date = date(random_year, random_month, random_day)\n",
        "\n",
        "  deliver_to_data.loc[i] = [address_index, i, delivered_date]\n",
        "deliver_to_data.to_csv('Deliver_to.csv', index=False, header=False)"
      ],
      "metadata": {
        "id": "e4YU-4DalzlS"
      },
      "execution_count": 29,
      "outputs": []
    },
    {
      "cell_type": "code",
      "source": [
        "#payment dataset\n",
        "orders_data = pd.read_csv('/content/orders.csv', names=['orderNumber', 'paymentStatus', 'totalAmount'])\n",
        "bankcard_data = pd.read_csv('/content/Bankcard_details.csv', names=['bankcardNumber', 'userid'])\n",
        "bankcards = len(bankcard_data)\n",
        "\n",
        "payment_data = pd.DataFrame(columns=['orderNumber', 'bankCardNumber'])\n",
        "\n",
        "for i in range(len(orders_data)):\n",
        "  card = bankcard_data.loc[random.randint(0, bankcards-1), 'bankcardNumber']\n",
        "  payment_data.loc[i] = [orders_data.loc[i, 'orderNumber'], card]\n",
        "\n",
        "payment_data.to_csv('Payment_data.csv', index=False, header=False)\n"
      ],
      "metadata": {
        "id": "d4_MLrB4qCji"
      },
      "execution_count": 36,
      "outputs": []
    },
    {
      "cell_type": "code",
      "source": [],
      "metadata": {
        "id": "ueIA02q1jOA5"
      },
      "execution_count": null,
      "outputs": []
    },
    {
      "cell_type": "code",
      "source": [],
      "metadata": {
        "id": "PcarGuXMk_v_"
      },
      "execution_count": null,
      "outputs": []
    },
    {
      "cell_type": "code",
      "source": [],
      "metadata": {
        "id": "Z39rm6kklGSa"
      },
      "execution_count": null,
      "outputs": []
    }
  ]
}